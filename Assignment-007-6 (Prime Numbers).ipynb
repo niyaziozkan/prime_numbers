{
 "cells": [
  {
   "cell_type": "code",
   "execution_count": null,
   "metadata": {},
   "outputs": [],
   "source": [
    "num = int(input(\"Please enter a number: \"))\n",
    "result_list = []\n",
    "for i in range(2,num):\n",
    "    prime = 0\n",
    "    for x in range(2,num):\n",
    "        if i % x == 0:\n",
    "            prime += 1\n",
    "    if prime == 1:\n",
    "        result_list.append(i)\n",
    "print(result_list)"
   ]
  }
 ],
 "metadata": {
  "kernelspec": {
   "display_name": "Python 3",
   "language": "python",
   "name": "python3"
  },
  "language_info": {
   "codemirror_mode": {
    "name": "ipython",
    "version": 3
   },
   "file_extension": ".py",
   "mimetype": "text/x-python",
   "name": "python",
   "nbconvert_exporter": "python",
   "pygments_lexer": "ipython3",
   "version": "3.8.3"
  }
 },
 "nbformat": 4,
 "nbformat_minor": 4
}
